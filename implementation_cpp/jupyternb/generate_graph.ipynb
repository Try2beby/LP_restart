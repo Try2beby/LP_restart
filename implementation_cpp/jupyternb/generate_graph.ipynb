{
 "cells": [
  {
   "cell_type": "code",
   "execution_count": 2,
   "metadata": {},
   "outputs": [],
   "source": [
    "import networkx as nx\n",
    "import numpy as np\n",
    "import gurobipy as gp\n",
    "import scipy.sparse as sp\n",
    "\n",
    "np.random.seed(0)\n",
    "\n",
    "# create a Barabási–Albert graph\n",
    "n = 1e5\n",
    "m = 3\n",
    "G = nx.barabasi_albert_graph(n, m)\n",
    "\n",
    "# get the adjacency matrix\n",
    "A = nx.adjacency_matrix(G)\n",
    "\n",
    "# scale the matrix to make each column sum to 1\n",
    "A = A.todense()\n",
    "A = A / A.sum(axis=0)\n",
    "A = sp.csr_matrix(A)\n",
    "\n",
    "# # add a all one vector to the matrix\n",
    "# A = np.concatenate((A, np.ones((1, A.shape[1]))), axis=0)\n",
    "\n",
    "# save the matrix in row,col,val format\n",
    "with open(\"../data/graph_1e5.txt\", \"w\") as f:\n",
    "    for i, j in zip(*A.nonzero()):\n",
    "        f.write(\"{} {} {}\\n\".format(i, j, A[i, j]))"
   ]
  },
  {
   "cell_type": "code",
   "execution_count": 9,
   "metadata": {},
   "outputs": [
    {
     "name": "stdout",
     "output_type": "stream",
     "text": [
      "Set parameter Method to value 0\n",
      "Set parameter Crossover to value 0\n",
      "Gurobi Optimizer version 10.0.3 build v10.0.3rc0 (linux64)\n",
      "\n",
      "CPU model: Intel(R) Xeon(R) Platinum 8375C CPU @ 2.90GHz, instruction set [SSE2|AVX|AVX2|AVX512]\n",
      "Thread count: 64 physical cores, 128 logical processors, using up to 32 threads\n",
      "\n",
      "Optimize a model with 10001 rows, 10000 columns and 79982 nonzeros\n",
      "Model fingerprint: 0x08c23693\n",
      "Coefficient statistics:\n",
      "  Matrix range     [4e-03, 1e+00]\n",
      "  Objective range  [0e+00, 0e+00]\n",
      "  Bounds range     [0e+00, 0e+00]\n",
      "  RHS range        [2e-05, 1e+00]\n",
      "Presolve time: 0.02s\n",
      "Presolved: 10001 rows, 10000 columns, 79982 nonzeros\n",
      "\n",
      "Iteration    Objective       Primal Inf.    Dual Inf.      Time\n",
      "       0    0.0000000e+00   9.999850e-01   9.999425e+09      0s\n",
      "    9479    0.0000000e+00   5.955584e-02   3.084265e+08      6s\n",
      "    9959    0.0000000e+00   3.899115e-03   2.942076e+07     12s\n",
      "   10002    0.0000000e+00   0.000000e+00   0.000000e+00     13s\n",
      "\n",
      "Solved in 10002 iterations and 12.76 seconds (27.02 work units)\n",
      "Optimal objective  0.000000000e+00\n"
     ]
    }
   ],
   "source": [
    "# turn the matrix into a sparse matrix\n",
    "A = sp.csr_matrix(A)\n",
    "\n",
    "_lambda = 0.85\n",
    "# S = _lambda * A + (1 - _lambda) / n\n",
    "\n",
    "m = gp.Model()\n",
    "x = m.addMVar(shape=A.shape[1], lb=0, name=\"x\")\n",
    "m.addConstr(x.sum() == 1)\n",
    "m.addConstr(_lambda * A @ x + (1 - _lambda) / n <= x)\n",
    "m.setObjective(0, gp.GRB.MINIMIZE)\n",
    "\n",
    "# # presolve the model\n",
    "m = m.presolve()\n",
    "\n",
    "# # 0 for primal simplex, 1 for dual simplex, 2 for barrier\n",
    "# m.setParam(\"Method\", 0)\n",
    "\n",
    "# # set the number of threads to be 1\n",
    "# m.setParam(\"Threads\", 1)\n",
    "\n",
    "# # disable crossover\n",
    "# m.setParam(\"Crossover\", 0)\n",
    "\n",
    "# m.optimize()"
   ]
  },
  {
   "cell_type": "code",
   "execution_count": 15,
   "metadata": {},
   "outputs": [
    {
     "data": {
      "text/plain": [
       "[0.0025840934876450875,\n",
       " 0.0022012093484858187,\n",
       " 0.00029569498550338684,\n",
       " 0.002674770521831564,\n",
       " 0.0030193496992530454,\n",
       " 0.003201643707693125,\n",
       " 0.0034033121650955656,\n",
       " 0.0009163356770442986,\n",
       " 0.0015176507745509086,\n",
       " 0.0017533249460075053]"
      ]
     },
     "execution_count": 15,
     "metadata": {},
     "output_type": "execute_result"
    }
   ],
   "source": [
    "# get the solution\n",
    "x = m.getAttr(\"x\")\n",
    "# x.sort()\n",
    "# x = x[::-1]\n",
    "x[:10]"
   ]
  }
 ],
 "metadata": {
  "kernelspec": {
   "display_name": "Python 3",
   "language": "python",
   "name": "python3"
  },
  "language_info": {
   "codemirror_mode": {
    "name": "ipython",
    "version": 3
   },
   "file_extension": ".py",
   "mimetype": "text/x-python",
   "name": "python",
   "nbconvert_exporter": "python",
   "pygments_lexer": "ipython3",
   "version": "3.8.10"
  }
 },
 "nbformat": 4,
 "nbformat_minor": 2
}
