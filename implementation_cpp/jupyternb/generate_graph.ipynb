{
 "cells": [
  {
   "cell_type": "code",
   "execution_count": 2,
   "metadata": {},
   "outputs": [],
   "source": [
    "import networkx as nx\n",
    "import numpy as np\n",
    "import gurobipy as gp\n",
    "import scipy.sparse as sp\n",
    "import os\n",
    "from datetime import datetime\n",
    "\n",
    "np.random.seed(0)\n",
    "\n",
    "pagerank_path = \"../data/pagerank/\"\n",
    "if not os.path.exists(pagerank_path):\n",
    "    os.makedirs(pagerank_path)\n",
    "\n",
    "\n",
    "def generate_graph(n, m, idx):\n",
    "    # create a Barabási–Albert graph\n",
    "    # n is the number of nodes, m is the number of edges to attach from a new node to existing nodes\n",
    "    print(\"generating graph with n = %.1e, m = %d\\n\" % (n, m))\n",
    "    n = int(n)\n",
    "    G = nx.barabasi_albert_graph(n, m)\n",
    "\n",
    "    # get the adjacency matrix\n",
    "    A = nx.adjacency_matrix(G)\n",
    "\n",
    "    # scale the matrix so that each column sum to 1\n",
    "    A /= A.sum(axis=0)\n",
    "\n",
    "    process(A, 0.85)\n",
    "\n",
    "    return\n",
    "\n",
    "\n",
    "def process(Net, _lambda=0.85):\n",
    "    n = Net.shape[0]\n",
    "    print(\"Net shape:\", Net.shape)\n",
    "\n",
    "    # define a model\n",
    "    m = gp.Model(\"B-A\")\n",
    "    # add variables\n",
    "    x = m.addMVar(shape=n, lb=0, name=\"x\")\n",
    "\n",
    "    # add constraints\n",
    "    m.addConstr(x.sum() == 1)\n",
    "    m.addConstr(_lambda * Net @ x + (1 - _lambda) / n <= x)\n",
    "\n",
    "    # set objective\n",
    "    m.setObjective(0, gp.GRB.MINIMIZE)\n",
    "\n",
    "    # get %M and %S\n",
    "    current_time = datetime.now().strftime(\"%M-%S\")\n",
    "\n",
    "    # write the model to a mps file, set filename as pagerank_$n_.mps\n",
    "    # generate a random number in [0, 1]\n",
    "    rand = int(100 * np.random.rand())\n",
    "\n",
    "    m.write(\"pgrk_{}_{}_{}.mps\".format(n, current_time, rand))\n",
    "\n",
    "    # print done\n",
    "    print(\"Done!\")\n",
    "\n",
    "\n",
    "n = 3e5\n",
    "m = 3\n",
    "\n",
    "\n",
    "# for i in range(5):\n",
    "#     generate_graph(n, m, i)"
   ]
  },
  {
   "cell_type": "code",
   "execution_count": 4,
   "metadata": {},
   "outputs": [
    {
     "name": "stdout",
     "output_type": "stream",
     "text": [
      "generating graph with n = 1.0e+01, m = 3\n",
      "\n"
     ]
    },
    {
     "data": {
      "text/plain": [
       "(array([0, 0, 0, 0, 0, 0, 1, 1, 1, 1, 1, 1, 2, 2, 3, 3, 3, 3, 3, 4, 4, 4,\n",
       "        4, 4, 5, 5, 5, 5, 5, 6, 6, 6, 6, 7, 7, 7, 8, 8, 8, 9, 9, 9],\n",
       "       dtype=int32),\n",
       " array([1, 2, 3, 6, 8, 9, 0, 4, 5, 6, 8, 9, 0, 4, 0, 4, 5, 7, 8, 1, 2, 3,\n",
       "        5, 7, 1, 3, 4, 6, 7, 0, 1, 5, 9, 3, 4, 5, 0, 1, 3, 0, 1, 6],\n",
       "       dtype=int32))"
      ]
     },
     "execution_count": 4,
     "metadata": {},
     "output_type": "execute_result"
    }
   ],
   "source": [
    "n = 10\n",
    "m = 3\n",
    "\n",
    "# create a Barabási–Albert graph\n",
    "# n is the number of nodes, m is the number of edges to attach from a new node to existing nodes\n",
    "print(\"generating graph with n = %.1e, m = %d\\n\" % (n, m))\n",
    "n = int(n)\n",
    "G = nx.barabasi_albert_graph(n, m)\n",
    "\n",
    "# get the adjacency matrix\n",
    "A = nx.adjacency_matrix(G)\n",
    "A.nonzero()"
   ]
  }
 ],
 "metadata": {
  "kernelspec": {
   "display_name": "Python 3",
   "language": "python",
   "name": "python3"
  },
  "language_info": {
   "codemirror_mode": {
    "name": "ipython",
    "version": 3
   },
   "file_extension": ".py",
   "mimetype": "text/x-python",
   "name": "python",
   "nbconvert_exporter": "python",
   "pygments_lexer": "ipython3",
   "version": "3.8.10"
  }
 },
 "nbformat": 4,
 "nbformat_minor": 2
}
