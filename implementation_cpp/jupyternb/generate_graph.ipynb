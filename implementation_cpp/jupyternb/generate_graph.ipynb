{
 "cells": [
  {
   "cell_type": "code",
   "execution_count": 10,
   "metadata": {},
   "outputs": [],
   "source": [
    "import networkx as nx\n",
    "import numpy as np\n",
    "\n",
    "# create a Barabási–Albert graph\n",
    "n = 1e4\n",
    "m = 3\n",
    "G = nx.barabasi_albert_graph(n, m)\n",
    "\n",
    "# get the adjacency matrix\n",
    "A = nx.adjacency_matrix(G)\n",
    "\n",
    "# scale the matrix to make each column sum to 1\n",
    "A = A.todense()\n",
    "A = A / A.sum(axis=0)\n",
    "\n",
    "# save the matrix in row,col,val format\n",
    "with open(\"./data/graph.txt\", \"w\") as f:\n",
    "    for i in range(A.shape[0]):\n",
    "        for j in range(A.shape[1]):\n",
    "            if A[i, j] != 0:\n",
    "                f.write(\"{} {} {}\\n\".format(i, j, A[i, j]))"
   ]
  },
  {
   "cell_type": "code",
   "execution_count": 7,
   "metadata": {},
   "outputs": [
    {
     "data": {
      "text/plain": [
       "array([4, 6])"
      ]
     },
     "execution_count": 7,
     "metadata": {},
     "output_type": "execute_result"
    }
   ],
   "source": [
    "A = np.array([[1, 2], [3, 4]])\n",
    "A.sum(axis=0)"
   ]
  }
 ],
 "metadata": {
  "kernelspec": {
   "display_name": "Python 3",
   "language": "python",
   "name": "python3"
  },
  "language_info": {
   "codemirror_mode": {
    "name": "ipython",
    "version": 3
   },
   "file_extension": ".py",
   "mimetype": "text/x-python",
   "name": "python",
   "nbconvert_exporter": "python",
   "pygments_lexer": "ipython3",
   "version": "3.8.10"
  }
 },
 "nbformat": 4,
 "nbformat_minor": 2
}
